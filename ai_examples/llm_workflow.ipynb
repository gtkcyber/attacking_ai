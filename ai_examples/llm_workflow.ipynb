{
 "cells": [
  {
   "cell_type": "code",
   "execution_count": 2,
   "id": "initial_id",
   "metadata": {
    "ExecuteTime": {
     "end_time": "2025-08-05T06:03:38.674544Z",
     "start_time": "2025-08-05T06:03:32.314643Z"
    }
   },
   "outputs": [],
   "source": [
    "import torch\n",
    "from transformers import AutoModelForCausalLM, AutoTokenizer, pipeline"
   ]
  },
  {
   "cell_type": "code",
   "id": "bb8e4802199d3ccd",
   "metadata": {
    "ExecuteTime": {
     "end_time": "2025-08-05T16:00:45.354936Z",
     "start_time": "2025-08-05T16:00:39.651854Z"
    }
   },
   "source": [
    "tokenizer = AutoTokenizer.from_pretrained(\"microsoft/Phi-3-mini-4k-instruct\")\n",
    "model = AutoModelForCausalLM.from_pretrained(\"microsoft/Phi-3-mini-4k-instruct\", device_map=\"auto\", torch_dtype=\"auto\", trust_remote_code=True)\n"
   ],
   "outputs": [
    {
     "data": {
      "text/plain": [
       "Loading checkpoint shards:   0%|          | 0/2 [00:00<?, ?it/s]"
      ],
      "application/vnd.jupyter.widget-view+json": {
       "version_major": 2,
       "version_minor": 0,
       "model_id": "a26f441f09d84f79a826af2867839203"
      }
     },
     "metadata": {},
     "output_type": "display_data"
    },
    {
     "name": "stderr",
     "output_type": "stream",
     "text": [
      "Some parameters are on the meta device because they were offloaded to the disk.\n"
     ]
    }
   ],
   "execution_count": 10
  },
  {
   "cell_type": "code",
   "id": "7adf7dc02e7fa7aa",
   "metadata": {
    "ExecuteTime": {
     "end_time": "2025-08-05T16:00:49.102426Z",
     "start_time": "2025-08-05T16:00:49.094056Z"
    }
   },
   "source": [
    "prompt = \"The capital of Florida is\"\"\"\n",
    "# Tokenize input prompt\n",
    "input_ids = tokenizer(prompt, return_tensors=\"pt\").input_ids\n",
    "# Tokenize the input prompt"
   ],
   "outputs": [],
   "execution_count": 11
  },
  {
   "cell_type": "code",
   "id": "a8e127e640ff02ab",
   "metadata": {
    "ExecuteTime": {
     "end_time": "2025-08-05T16:01:02.615135Z",
     "start_time": "2025-08-05T16:00:54.425560Z"
    }
   },
   "source": [
    "model_output = model.model(input_ids)"
   ],
   "outputs": [],
   "execution_count": 12
  },
  {
   "cell_type": "code",
   "id": "e193ff6fc4b38877",
   "metadata": {
    "ExecuteTime": {
     "end_time": "2025-08-05T15:55:55.848373Z",
     "start_time": "2025-08-05T15:55:55.432830Z"
    }
   },
   "source": [
    "lm_head_output = model.lm_head(model_output[0])"
   ],
   "outputs": [],
   "execution_count": 6
  },
  {
   "metadata": {
    "ExecuteTime": {
     "end_time": "2025-08-05T15:55:59.183707Z",
     "start_time": "2025-08-05T15:55:59.169457Z"
    }
   },
   "cell_type": "code",
   "source": "print(lm_head_output)",
   "id": "c97c1309244e363b",
   "outputs": [
    {
     "name": "stdout",
     "output_type": "stream",
     "text": [
      "tensor([[[25.0000, 25.1250, 23.0000,  ..., 19.1250, 19.1250, 19.1250],\n",
      "         [31.0000, 31.5000, 26.0000,  ..., 25.8750, 25.8750, 25.8750],\n",
      "         [31.5000, 28.8750, 31.0000,  ..., 26.2500, 26.2500, 26.2500],\n",
      "         [33.0000, 33.0000, 35.5000,  ..., 27.3750, 27.3750, 27.3750],\n",
      "         [30.1250, 30.6250, 28.8750,  ..., 22.8750, 22.8750, 22.8750]]],\n",
      "       device='mps:0', dtype=torch.bfloat16, grad_fn=<LinearBackward0>)\n"
     ]
    }
   ],
   "execution_count": 7
  },
  {
   "metadata": {
    "ExecuteTime": {
     "end_time": "2025-08-05T15:59:26.531645Z",
     "start_time": "2025-08-05T15:59:26.397196Z"
    }
   },
   "cell_type": "code",
   "source": [
    "token_id = lm_head_output[0,-1].argmax(-1)\n",
    "tokenizer.decode(token_id)"
   ],
   "id": "42b5bd8717eb9e26",
   "outputs": [
    {
     "data": {
      "text/plain": [
       "'T'"
      ]
     },
     "execution_count": 8,
     "metadata": {},
     "output_type": "execute_result"
    }
   ],
   "execution_count": 8
  },
  {
   "metadata": {},
   "cell_type": "code",
   "outputs": [],
   "execution_count": null,
   "source": "",
   "id": "138a5f41d6c68108"
  }
 ],
 "metadata": {
  "kernelspec": {
   "display_name": "Python [conda env:base] *",
   "language": "python",
   "name": "conda-base-py"
  },
  "language_info": {
   "codemirror_mode": {
    "name": "ipython",
    "version": 3
   },
   "file_extension": ".py",
   "mimetype": "text/x-python",
   "name": "python",
   "nbconvert_exporter": "python",
   "pygments_lexer": "ipython3",
   "version": "3.10.14"
  }
 },
 "nbformat": 4,
 "nbformat_minor": 5
}
