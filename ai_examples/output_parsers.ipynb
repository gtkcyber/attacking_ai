{
 "cells": [
  {
   "cell_type": "code",
   "id": "initial_id",
   "metadata": {
    "collapsed": true,
    "ExecuteTime": {
     "end_time": "2025-07-25T20:28:52.857400Z",
     "start_time": "2025-07-25T20:28:52.852827Z"
    }
   },
   "source": [
    "from langchain_openai.chat_models import ChatOpenAI\n",
    "from langchain_core.prompts import SystemMessagePromptTemplate, ChatPromptTemplate\n",
    "from langchain_core.output_parsers import PydanticOutputParser\n",
    "from pydantic import BaseModel\n",
    "import os\n",
    "from dotenv import load_dotenv\n",
    "load_dotenv()"
   ],
   "outputs": [
    {
     "data": {
      "text/plain": [
       "True"
      ]
     },
     "execution_count": 31,
     "metadata": {},
     "output_type": "execute_result"
    }
   ],
   "execution_count": 31
  },
  {
   "metadata": {
    "ExecuteTime": {
     "end_time": "2025-07-25T20:28:53.624502Z",
     "start_time": "2025-07-25T20:28:53.620630Z"
    }
   },
   "cell_type": "code",
   "source": [
    "class SQL_Query(BaseModel):\n",
    "    query: str\n",
    "    is_malicious: bool\n",
    "    table_count: int\n"
   ],
   "id": "b108d26d8be273ec",
   "outputs": [],
   "execution_count": 32
  },
  {
   "metadata": {
    "ExecuteTime": {
     "end_time": "2025-07-25T20:33:56.346003Z",
     "start_time": "2025-07-25T20:33:56.343464Z"
    }
   },
   "cell_type": "code",
   "source": [
    "model = ChatOpenAI(temperature=0.25,\n",
    "                  model=\"gpt-3.5-turbo\",\n",
    "                  api_key=os.getenv(\"OPENAI_KEY\"))"
   ],
   "id": "4357f04c29df6851",
   "outputs": [],
   "execution_count": 49
  },
  {
   "metadata": {
    "ExecuteTime": {
     "end_time": "2025-07-25T20:33:56.918215Z",
     "start_time": "2025-07-25T20:33:56.915481Z"
    }
   },
   "cell_type": "code",
   "source": [
    "template = \"\"\"\n",
    "You are a cybersecurity assistant that generates SQL queries to test whether a specific system is vulnerable to SQL injection attacks.\n",
    "\n",
    "You will be provided with the a database table named {table} and a list of column names:\n",
    "{columns}\n",
    "\n",
    "Only use this information to generate a SQL query to test whether the application using this database is vulnerable to SQL injection attacks.\n",
    "The query should range from very simple to very complex.  Include examples with joins, code execution and unions.\n",
    "\n",
    "{format_instructions}\n",
    "\"\"\""
   ],
   "id": "93da3cbf669c7d6d",
   "outputs": [],
   "execution_count": 50
  },
  {
   "metadata": {
    "ExecuteTime": {
     "end_time": "2025-07-25T20:33:57.699780Z",
     "start_time": "2025-07-25T20:33:57.697730Z"
    }
   },
   "cell_type": "code",
   "source": "json_output_parser = PydanticOutputParser(pydantic_object=SQL_Query)",
   "id": "559945426cb7fed5",
   "outputs": [],
   "execution_count": 51
  },
  {
   "metadata": {
    "ExecuteTime": {
     "end_time": "2025-07-25T20:33:58.971945Z",
     "start_time": "2025-07-25T20:33:58.970125Z"
    }
   },
   "cell_type": "code",
   "source": "print(json_output_parser.get_format_instructions())",
   "id": "6514404913963c91",
   "outputs": [
    {
     "name": "stdout",
     "output_type": "stream",
     "text": [
      "The output should be formatted as a JSON instance that conforms to the JSON schema below.\n",
      "\n",
      "As an example, for the schema {\"properties\": {\"foo\": {\"title\": \"Foo\", \"description\": \"a list of strings\", \"type\": \"array\", \"items\": {\"type\": \"string\"}}}, \"required\": [\"foo\"]}\n",
      "the object {\"foo\": [\"bar\", \"baz\"]} is a well-formatted instance of the schema. The object {\"properties\": {\"foo\": [\"bar\", \"baz\"]}} is not well-formatted.\n",
      "\n",
      "Here is the output schema:\n",
      "```\n",
      "{\"properties\": {\"query\": {\"title\": \"Query\", \"type\": \"string\"}, \"is_malicious\": {\"title\": \"Is Malicious\", \"type\": \"boolean\"}, \"table_count\": {\"title\": \"Table Count\", \"type\": \"integer\"}}, \"required\": [\"query\", \"is_malicious\", \"table_count\"]}\n",
      "```\n"
     ]
    }
   ],
   "execution_count": 52
  },
  {
   "metadata": {
    "ExecuteTime": {
     "end_time": "2025-07-25T20:34:01.043536Z",
     "start_time": "2025-07-25T20:34:01.040626Z"
    }
   },
   "cell_type": "code",
   "source": [
    "# Define the System message\n",
    "system_message = SystemMessagePromptTemplate.from_template(template)\n",
    "# Get the Chat Prompt\n",
    "chat_prompt = ChatPromptTemplate.from_messages([system_message])"
   ],
   "id": "d1dece9a6a0d7295",
   "outputs": [],
   "execution_count": 53
  },
  {
   "metadata": {
    "ExecuteTime": {
     "end_time": "2025-07-25T20:39:55.567054Z",
     "start_time": "2025-07-25T20:39:54.499886Z"
    }
   },
   "cell_type": "code",
   "source": [
    "# Build the chain\n",
    "chain = chat_prompt | model | json_output_parser\n",
    "result = chain.invoke({\"table\": \"users\",\n",
    "                       \"columns\": [\"id\", \"name\", \"email\", \"password\", \"phone_number\"],\n",
    "                       \"format_instructions\": json_output_parser.get_format_instructions()\n",
    "                       },\n",
    "                      )"
   ],
   "id": "b16a2d8fed253f6",
   "outputs": [],
   "execution_count": 70
  },
  {
   "metadata": {
    "ExecuteTime": {
     "end_time": "2025-07-25T20:40:05.507860Z",
     "start_time": "2025-07-25T20:40:05.505988Z"
    }
   },
   "cell_type": "code",
   "source": "print(result)",
   "id": "ea34c93b3101560a",
   "outputs": [
    {
     "name": "stdout",
     "output_type": "stream",
     "text": [
      "query='SELECT * FROM users WHERE id = 1' is_malicious=True table_count=1\n"
     ]
    }
   ],
   "execution_count": 72
  }
 ],
 "metadata": {
  "kernelspec": {
   "display_name": "Python [conda env:base] *",
   "language": "python",
   "name": "conda-base-py"
  },
  "language_info": {
   "codemirror_mode": {
    "name": "ipython",
    "version": 2
   },
   "file_extension": ".py",
   "mimetype": "text/x-python",
   "name": "python",
   "nbconvert_exporter": "python",
   "pygments_lexer": "ipython2",
   "version": "2.7.6"
  }
 },
 "nbformat": 4,
 "nbformat_minor": 5
}
