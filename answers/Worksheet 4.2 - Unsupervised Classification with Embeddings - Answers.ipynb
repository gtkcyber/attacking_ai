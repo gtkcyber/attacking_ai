{
 "cells": [
  {
   "metadata": {},
   "cell_type": "markdown",
   "source": [
    "# Unsupervised Classification with Embeddings - Answers\n",
    "In this lab, we will be working on the following use case:  You run your company's IT and want to make sure that your employees are not signing up for unauthorized services and creating shadow IT.  To do so, we will be building a model to idenfity account verification emails sent to company email addresses.\n",
    "\n",
    "## Finding SaaS Applications\n",
    "The basic approach is that we're going to look at the subjects of emails and compare that subject with the subject(s) of common account operations.  This initial approach starts with email verification emails, but could be expanded to other common SaaS operations such as 2FA, account creation, etc.\n",
    "\n",
    "First, let's read in the data.  As with other labs, this lab uses the `DATA_PATH` variable so if you moved the data anywhere outside of the repository, you will need to modify the `DATA_PATH` variable.  The dataset we will be using for this exercise is in the file `clean_email.csv` which contains approximately 140k email metadata events."
   ],
   "id": "c5d92648ec2423b8"
  },
  {
   "metadata": {
    "ExecuteTime": {
     "end_time": "2025-09-12T03:37:53.167714Z",
     "start_time": "2025-09-12T03:37:53.164265Z"
    }
   },
   "cell_type": "code",
   "source": [
    "import pandas as pd\n",
    "import numpy as np\n",
    "from sentence_transformers import SentenceTransformer\n",
    "from sklearn.metrics.pairwise import cosine_similarity\n",
    "\n",
    "# These two lines should only be used on a Mac with Apple Silicon.  If you have a GPU, you can use that as well.\n",
    "import torch\n",
    "device = torch.device(\"mps\" if torch.backends.mps.is_available() else \"cpu\")\n",
    "\n",
    "\n",
    "DATA_PATH = '../data'\n",
    "\n",
    "# You'll need to define a verification message which we will use to compare all the other subjects to.\n",
    "VERIFICATION_TEXT = \"please verify your email\"\n"
   ],
   "id": "30767b678990aa04",
   "outputs": [],
   "execution_count": 3
  },
  {
   "metadata": {},
   "cell_type": "markdown",
   "source": [
    "### The Data\n",
    "Let's read in the data and do some EDA."
   ],
   "id": "d01417a460c58855"
  },
  {
   "metadata": {
    "ExecuteTime": {
     "end_time": "2025-09-12T03:37:54.663425Z",
     "start_time": "2025-09-12T03:37:54.436849Z"
    }
   },
   "cell_type": "code",
   "source": "email_data = pd.read_csv(f\"{DATA_PATH}/clean_email.csv\")",
   "id": "995ead4d2640785d",
   "outputs": [],
   "execution_count": 4
  },
  {
   "metadata": {
    "ExecuteTime": {
     "end_time": "2025-09-12T03:37:55.580677Z",
     "start_time": "2025-09-12T03:37:55.568120Z"
    }
   },
   "cell_type": "code",
   "source": "email_data.sample(5)",
   "id": "f72e5653b85a2127",
   "outputs": [
    {
     "data": {
      "text/plain": [
       "                      date         to_email to_email_account  \\\n",
       "88322  2023-02-13 20:38:16  user1@gmail.com            user1   \n",
       "25483  2018-03-30 18:52:15  user1@gmail.com            user1   \n",
       "49864  2022-04-20 20:03:30  user1@gmail.com            user1   \n",
       "78520  2018-02-17 20:23:22  user6@gmail.com            user6   \n",
       "60008  2019-07-08 13:44:37  user1@gmail.com            user1   \n",
       "\n",
       "      to_email_complete_domain                         from_email  \\\n",
       "88322                gmail.com            news@mb.thehornnews.com   \n",
       "25483                gmail.com                   info@twitter.com   \n",
       "49864                gmail.com             hello@g.hellofresh.com   \n",
       "78520                gmail.com  BestBuyInfo@emailinfo.bestbuy.com   \n",
       "60008                gmail.com                  fool@foolsubs.com   \n",
       "\n",
       "              from_name from_email_account from_email_complete_domain  \\\n",
       "88322    The Horn News                news         mb.thehornnews.com   \n",
       "25483          Twitter                info                twitter.com   \n",
       "49864       HelloFresh               hello           g.hellofresh.com   \n",
       "78520         Best Buy         BestBuyInfo      emailinfo.bestbuy.com   \n",
       "60008  The Motley Fool                fool               foolsubs.com   \n",
       "\n",
       "      from_email_domain from_email_subdomain from_email_suffix  \\\n",
       "88322       thehornnews                   mb               com   \n",
       "25483           twitter                  NaN               com   \n",
       "49864        hellofresh                    g               com   \n",
       "78520           bestbuy            emailinfo               com   \n",
       "60008          foolsubs                  NaN               com   \n",
       "\n",
       "                                                 subject  \n",
       "88322  Fetterman's brain damage may be permanent, war...  \n",
       "25483  \"US visa application may soon require social m...  \n",
       "49864                    Save the ? one dinner at a time  \n",
       "78520      Your Bose® - SoundSport® In-Ear Headphones...  \n",
       "60008  When 7-Eleven doesn't take cash, you better pa...  "
      ],
      "text/html": [
       "<div>\n",
       "<style scoped>\n",
       "    .dataframe tbody tr th:only-of-type {\n",
       "        vertical-align: middle;\n",
       "    }\n",
       "\n",
       "    .dataframe tbody tr th {\n",
       "        vertical-align: top;\n",
       "    }\n",
       "\n",
       "    .dataframe thead th {\n",
       "        text-align: right;\n",
       "    }\n",
       "</style>\n",
       "<table border=\"1\" class=\"dataframe\">\n",
       "  <thead>\n",
       "    <tr style=\"text-align: right;\">\n",
       "      <th></th>\n",
       "      <th>date</th>\n",
       "      <th>to_email</th>\n",
       "      <th>to_email_account</th>\n",
       "      <th>to_email_complete_domain</th>\n",
       "      <th>from_email</th>\n",
       "      <th>from_name</th>\n",
       "      <th>from_email_account</th>\n",
       "      <th>from_email_complete_domain</th>\n",
       "      <th>from_email_domain</th>\n",
       "      <th>from_email_subdomain</th>\n",
       "      <th>from_email_suffix</th>\n",
       "      <th>subject</th>\n",
       "    </tr>\n",
       "  </thead>\n",
       "  <tbody>\n",
       "    <tr>\n",
       "      <th>88322</th>\n",
       "      <td>2023-02-13 20:38:16</td>\n",
       "      <td>user1@gmail.com</td>\n",
       "      <td>user1</td>\n",
       "      <td>gmail.com</td>\n",
       "      <td>news@mb.thehornnews.com</td>\n",
       "      <td>The Horn News</td>\n",
       "      <td>news</td>\n",
       "      <td>mb.thehornnews.com</td>\n",
       "      <td>thehornnews</td>\n",
       "      <td>mb</td>\n",
       "      <td>com</td>\n",
       "      <td>Fetterman's brain damage may be permanent, war...</td>\n",
       "    </tr>\n",
       "    <tr>\n",
       "      <th>25483</th>\n",
       "      <td>2018-03-30 18:52:15</td>\n",
       "      <td>user1@gmail.com</td>\n",
       "      <td>user1</td>\n",
       "      <td>gmail.com</td>\n",
       "      <td>info@twitter.com</td>\n",
       "      <td>Twitter</td>\n",
       "      <td>info</td>\n",
       "      <td>twitter.com</td>\n",
       "      <td>twitter</td>\n",
       "      <td>NaN</td>\n",
       "      <td>com</td>\n",
       "      <td>\"US visa application may soon require social m...</td>\n",
       "    </tr>\n",
       "    <tr>\n",
       "      <th>49864</th>\n",
       "      <td>2022-04-20 20:03:30</td>\n",
       "      <td>user1@gmail.com</td>\n",
       "      <td>user1</td>\n",
       "      <td>gmail.com</td>\n",
       "      <td>hello@g.hellofresh.com</td>\n",
       "      <td>HelloFresh</td>\n",
       "      <td>hello</td>\n",
       "      <td>g.hellofresh.com</td>\n",
       "      <td>hellofresh</td>\n",
       "      <td>g</td>\n",
       "      <td>com</td>\n",
       "      <td>Save the ? one dinner at a time</td>\n",
       "    </tr>\n",
       "    <tr>\n",
       "      <th>78520</th>\n",
       "      <td>2018-02-17 20:23:22</td>\n",
       "      <td>user6@gmail.com</td>\n",
       "      <td>user6</td>\n",
       "      <td>gmail.com</td>\n",
       "      <td>BestBuyInfo@emailinfo.bestbuy.com</td>\n",
       "      <td>Best Buy</td>\n",
       "      <td>BestBuyInfo</td>\n",
       "      <td>emailinfo.bestbuy.com</td>\n",
       "      <td>bestbuy</td>\n",
       "      <td>emailinfo</td>\n",
       "      <td>com</td>\n",
       "      <td>Your Bose® - SoundSport® In-Ear Headphones...</td>\n",
       "    </tr>\n",
       "    <tr>\n",
       "      <th>60008</th>\n",
       "      <td>2019-07-08 13:44:37</td>\n",
       "      <td>user1@gmail.com</td>\n",
       "      <td>user1</td>\n",
       "      <td>gmail.com</td>\n",
       "      <td>fool@foolsubs.com</td>\n",
       "      <td>The Motley Fool</td>\n",
       "      <td>fool</td>\n",
       "      <td>foolsubs.com</td>\n",
       "      <td>foolsubs</td>\n",
       "      <td>NaN</td>\n",
       "      <td>com</td>\n",
       "      <td>When 7-Eleven doesn't take cash, you better pa...</td>\n",
       "    </tr>\n",
       "  </tbody>\n",
       "</table>\n",
       "</div>"
      ]
     },
     "execution_count": 5,
     "metadata": {},
     "output_type": "execute_result"
    }
   ],
   "execution_count": 5
  },
  {
   "metadata": {},
   "cell_type": "markdown",
   "source": "You should do some exploratory data analysis here to make sure that all the fields you need are populated.",
   "id": "1ee12766b1fa5706"
  },
  {
   "metadata": {
    "ExecuteTime": {
     "end_time": "2025-09-12T03:37:57.787977Z",
     "start_time": "2025-09-12T03:37:57.785142Z"
    }
   },
   "cell_type": "code",
   "source": [
    "def cleanup_subject(subject: str) -> str:\n",
    "    # Remove newlines\n",
    "    subject = subject.replace('\\n', ' ')\n",
    "\n",
    "    # Remove leading and trailing whitespace\n",
    "    subject = subject.strip()\n",
    "\n",
    "    # Convert to lowercase\n",
    "    subject = subject.lower()\n",
    "    return subject\n"
   ],
   "id": "22c3fcb808b0ab7a",
   "outputs": [],
   "execution_count": 6
  },
  {
   "metadata": {
    "ExecuteTime": {
     "end_time": "2025-09-12T03:37:58.887903Z",
     "start_time": "2025-09-12T03:37:58.832043Z"
    }
   },
   "cell_type": "code",
   "source": [
    "# Drop rows with an empty subject\n",
    "email_data.dropna(subset=['subject'], inplace=True)\n",
    "\n",
    "# Clean up the subject\n",
    "email_data['subject'] = email_data['subject'].apply(cleanup_subject)"
   ],
   "id": "7eedb17158ec6993",
   "outputs": [],
   "execution_count": 7
  },
  {
   "metadata": {},
   "cell_type": "markdown",
   "source": [
    "## Step One:  Generate Embeddings\n",
    "After exploring and cleaning our data, we'll need to compute embeddings for the subject lines of the emails.  You can use a similar method as we did in previous labs OR you can use a library which I really like called `fasttext`.  In the answer notebook, you will see both methods, but the basic idea is the same.  You can use the same embedding model we used in the previous lab to generate the embeddings.\n",
    "\n",
    "**This step will take several minutes to complete.**"
   ],
   "id": "aafac421a701cc0c"
  },
  {
   "metadata": {
    "jupyter": {
     "is_executing": true
    },
    "ExecuteTime": {
     "start_time": "2025-09-12T03:38:01.325506Z"
    }
   },
   "cell_type": "code",
   "source": [
    "# Load embedding model\n",
    "model = SentenceTransformer('paraphrase-MiniLM-L6-v2', device=device)\n",
    "# Generate embeddings\n",
    "email_data['embedding'] = email_data['subject'].apply(lambda x: model.encode(x, device=device).tolist())"
   ],
   "id": "d2fd793e412e77f5",
   "outputs": [],
   "execution_count": null
  },
  {
   "metadata": {
    "ExecuteTime": {
     "end_time": "2025-08-12T14:01:54.624196Z",
     "start_time": "2025-08-12T14:01:54.601471Z"
    }
   },
   "cell_type": "code",
   "source": [
    "# You should also create embeddings for the verification text\n",
    "# You will need to reshape it so that we can compute the cosine_similarity.  Use the reshape(1, -1)\n",
    "VERIFICATION_EMBEDDING = np.array(model.encode(VERIFICATION_TEXT)).reshape(1, -1)"
   ],
   "id": "5f22a9af7962cbbd",
   "outputs": [],
   "execution_count": 10
  },
  {
   "metadata": {},
   "cell_type": "markdown",
   "source": [
    "## Step Two: Comparing the Embeddings\n",
    "What we will need to do her is create a verification text, something like `Please Verify your Email Address` and then we will use cosine similiarity to compare the embeddings for the verification text and the email subjects.\n",
    "\n",
    "### Calculate the Cosine Similiarity\n",
    "\n",
    "Next, we calculate the cosine similarity between the template text and the email subject.  We have to do some data cleanup as well.  For the cleanup we:\n",
    "1. Convert the inputs to strings\n",
    "2. Remove leading/trailing whitespaces\n",
    "3. Replace any newlines with spaces\n",
    "4. Convert to lower case\n",
    "\n",
    "Once we have done that, we'll use the model to get a vector of the sentence and use cosine similiarity to compute the distance between the template text and the email subject.\n",
    "\n",
    "You will have to reshape the lists using the `reshape(1,-1)` function in numpy.  To do this, you'll probably have to convert the series to a NumPy array as shown below:\n",
    "\n",
    "```python\n",
    "np.array(embedding).reshape(1, -1)\n",
    "```\n",
    "\n",
    "You can calculate the cosine similarity by using the `cosine_similarity(a1, a2)` that we imported at the beginning of the lab.  `a1` and `a2` need to be list-like data structures.  Be sure to save these scores in the dataframe."
   ],
   "id": "9f1f2dee6eb87806"
  },
  {
   "metadata": {
    "ExecuteTime": {
     "end_time": "2025-08-01T22:15:44.582905Z",
     "start_time": "2025-08-01T22:15:25.187023Z"
    }
   },
   "cell_type": "code",
   "source": [
    "def text_similarity(embedding) -> float:\n",
    "    return cosine_similarity(np.array(embedding).reshape(1, -1), VERIFICATION_EMBEDDING)[0][0]\n",
    "\n",
    "email_data['similarity_score'] = email_data['embedding'].apply(text_similarity)"
   ],
   "id": "6b4cd13cd1fd2dcc",
   "outputs": [],
   "execution_count": 10
  },
  {
   "metadata": {},
   "cell_type": "markdown",
   "source": [
    "## Step Three:  Finding the Accounts.\n",
    "Now that we have the similarity scores, we can look at the results to find candidate emails.  The closer the similarity score is to 1, the more likely the email is a match. You will have to decide what similarity threshold you want to use to detect these emails.  Experiment with the similarity score to see what threshold works best for our use case.\n",
    "\n",
    "Your task here is to find the emails, then extract the unique sender domains to find out which unauthorized accounts have been created."
   ],
   "id": "a156f92e735e3bdd"
  },
  {
   "metadata": {
    "ExecuteTime": {
     "end_time": "2025-08-12T14:01:56.762123Z",
     "start_time": "2025-08-12T14:01:54.743486Z"
    }
   },
   "cell_type": "code",
   "source": "email_data[email_data['similarity_score'] >= 0.68][['from_email_complete_domain', 'subject']]",
   "id": "494c3d322106346c",
   "outputs": [
    {
     "ename": "KeyError",
     "evalue": "'similarity_score'",
     "output_type": "error",
     "traceback": [
      "\u001B[0;31m---------------------------------------------------------------------------\u001B[0m",
      "\u001B[0;31mKeyError\u001B[0m                                  Traceback (most recent call last)",
      "File \u001B[0;32m~/anaconda3/lib/python3.10/site-packages/pandas/core/indexes/base.py:3812\u001B[0m, in \u001B[0;36mIndex.get_loc\u001B[0;34m(self, key)\u001B[0m\n\u001B[1;32m   3811\u001B[0m \u001B[38;5;28;01mtry\u001B[39;00m:\n\u001B[0;32m-> 3812\u001B[0m     \u001B[38;5;28;01mreturn\u001B[39;00m \u001B[38;5;28;43mself\u001B[39;49m\u001B[38;5;241;43m.\u001B[39;49m\u001B[43m_engine\u001B[49m\u001B[38;5;241;43m.\u001B[39;49m\u001B[43mget_loc\u001B[49m\u001B[43m(\u001B[49m\u001B[43mcasted_key\u001B[49m\u001B[43m)\u001B[49m\n\u001B[1;32m   3813\u001B[0m \u001B[38;5;28;01mexcept\u001B[39;00m \u001B[38;5;167;01mKeyError\u001B[39;00m \u001B[38;5;28;01mas\u001B[39;00m err:\n",
      "File \u001B[0;32mpandas/_libs/index.pyx:167\u001B[0m, in \u001B[0;36mpandas._libs.index.IndexEngine.get_loc\u001B[0;34m()\u001B[0m\n",
      "File \u001B[0;32mpandas/_libs/index.pyx:196\u001B[0m, in \u001B[0;36mpandas._libs.index.IndexEngine.get_loc\u001B[0;34m()\u001B[0m\n",
      "File \u001B[0;32mpandas/_libs/hashtable_class_helper.pxi:7088\u001B[0m, in \u001B[0;36mpandas._libs.hashtable.PyObjectHashTable.get_item\u001B[0;34m()\u001B[0m\n",
      "File \u001B[0;32mpandas/_libs/hashtable_class_helper.pxi:7096\u001B[0m, in \u001B[0;36mpandas._libs.hashtable.PyObjectHashTable.get_item\u001B[0;34m()\u001B[0m\n",
      "\u001B[0;31mKeyError\u001B[0m: 'similarity_score'",
      "\nThe above exception was the direct cause of the following exception:\n",
      "\u001B[0;31mKeyError\u001B[0m                                  Traceback (most recent call last)",
      "Cell \u001B[0;32mIn[11], line 1\u001B[0m\n\u001B[0;32m----> 1\u001B[0m email_data[\u001B[43memail_data\u001B[49m\u001B[43m[\u001B[49m\u001B[38;5;124;43m'\u001B[39;49m\u001B[38;5;124;43msimilarity_score\u001B[39;49m\u001B[38;5;124;43m'\u001B[39;49m\u001B[43m]\u001B[49m \u001B[38;5;241m>\u001B[39m\u001B[38;5;241m=\u001B[39m \u001B[38;5;241m0.68\u001B[39m][[\u001B[38;5;124m'\u001B[39m\u001B[38;5;124mfrom_email_complete_domain\u001B[39m\u001B[38;5;124m'\u001B[39m, \u001B[38;5;124m'\u001B[39m\u001B[38;5;124msubject\u001B[39m\u001B[38;5;124m'\u001B[39m]]\n",
      "File \u001B[0;32m~/anaconda3/lib/python3.10/site-packages/pandas/core/frame.py:4107\u001B[0m, in \u001B[0;36mDataFrame.__getitem__\u001B[0;34m(self, key)\u001B[0m\n\u001B[1;32m   4105\u001B[0m \u001B[38;5;28;01mif\u001B[39;00m \u001B[38;5;28mself\u001B[39m\u001B[38;5;241m.\u001B[39mcolumns\u001B[38;5;241m.\u001B[39mnlevels \u001B[38;5;241m>\u001B[39m \u001B[38;5;241m1\u001B[39m:\n\u001B[1;32m   4106\u001B[0m     \u001B[38;5;28;01mreturn\u001B[39;00m \u001B[38;5;28mself\u001B[39m\u001B[38;5;241m.\u001B[39m_getitem_multilevel(key)\n\u001B[0;32m-> 4107\u001B[0m indexer \u001B[38;5;241m=\u001B[39m \u001B[38;5;28;43mself\u001B[39;49m\u001B[38;5;241;43m.\u001B[39;49m\u001B[43mcolumns\u001B[49m\u001B[38;5;241;43m.\u001B[39;49m\u001B[43mget_loc\u001B[49m\u001B[43m(\u001B[49m\u001B[43mkey\u001B[49m\u001B[43m)\u001B[49m\n\u001B[1;32m   4108\u001B[0m \u001B[38;5;28;01mif\u001B[39;00m is_integer(indexer):\n\u001B[1;32m   4109\u001B[0m     indexer \u001B[38;5;241m=\u001B[39m [indexer]\n",
      "File \u001B[0;32m~/anaconda3/lib/python3.10/site-packages/pandas/core/indexes/base.py:3819\u001B[0m, in \u001B[0;36mIndex.get_loc\u001B[0;34m(self, key)\u001B[0m\n\u001B[1;32m   3814\u001B[0m     \u001B[38;5;28;01mif\u001B[39;00m \u001B[38;5;28misinstance\u001B[39m(casted_key, \u001B[38;5;28mslice\u001B[39m) \u001B[38;5;129;01mor\u001B[39;00m (\n\u001B[1;32m   3815\u001B[0m         \u001B[38;5;28misinstance\u001B[39m(casted_key, abc\u001B[38;5;241m.\u001B[39mIterable)\n\u001B[1;32m   3816\u001B[0m         \u001B[38;5;129;01mand\u001B[39;00m \u001B[38;5;28many\u001B[39m(\u001B[38;5;28misinstance\u001B[39m(x, \u001B[38;5;28mslice\u001B[39m) \u001B[38;5;28;01mfor\u001B[39;00m x \u001B[38;5;129;01min\u001B[39;00m casted_key)\n\u001B[1;32m   3817\u001B[0m     ):\n\u001B[1;32m   3818\u001B[0m         \u001B[38;5;28;01mraise\u001B[39;00m InvalidIndexError(key)\n\u001B[0;32m-> 3819\u001B[0m     \u001B[38;5;28;01mraise\u001B[39;00m \u001B[38;5;167;01mKeyError\u001B[39;00m(key) \u001B[38;5;28;01mfrom\u001B[39;00m \u001B[38;5;21;01merr\u001B[39;00m\n\u001B[1;32m   3820\u001B[0m \u001B[38;5;28;01mexcept\u001B[39;00m \u001B[38;5;167;01mTypeError\u001B[39;00m:\n\u001B[1;32m   3821\u001B[0m     \u001B[38;5;66;03m# If we have a listlike key, _check_indexing_error will raise\u001B[39;00m\n\u001B[1;32m   3822\u001B[0m     \u001B[38;5;66;03m#  InvalidIndexError. Otherwise we fall through and re-raise\u001B[39;00m\n\u001B[1;32m   3823\u001B[0m     \u001B[38;5;66;03m#  the TypeError.\u001B[39;00m\n\u001B[1;32m   3824\u001B[0m     \u001B[38;5;28mself\u001B[39m\u001B[38;5;241m.\u001B[39m_check_indexing_error(key)\n",
      "\u001B[0;31mKeyError\u001B[0m: 'similarity_score'"
     ]
    }
   ],
   "execution_count": 11
  },
  {
   "metadata": {
    "ExecuteTime": {
     "end_time": "2025-08-12T14:01:56.914029Z",
     "start_time": "2025-08-01T22:15:55.197048Z"
    }
   },
   "cell_type": "code",
   "source": "email_data[email_data['similarity_score'] >= 0.68][['from_email_complete_domain']].value_counts()",
   "id": "e8121d9035fa2e1f",
   "outputs": [
    {
     "data": {
      "text/plain": [
       "from_email_complete_domain\n",
       "lyftmail.com                  9\n",
       "alerts.comcast.net            4\n",
       "hello.soundcloud.com          4\n",
       "microsoft.onmicrosoft.com     3\n",
       "ahs.com                       3\n",
       "equityzen.com                 3\n",
       "service.discover.com          2\n",
       "mail.etsy.com                 2\n",
       "godaddy.com                   2\n",
       "mail15.creditkarma.com        2\n",
       "mail.offeredby.com            2\n",
       "service.lovense.com           2\n",
       "studiolab.sagemaker.aws       2\n",
       "welcome.aexp.com              2\n",
       "service.hbomax.com            1\n",
       "republic.co                   1\n",
       "transferwise.com              1\n",
       "trekbikes.com                 1\n",
       "remarkable.com                1\n",
       "redfin.com                    1\n",
       "notifications.skiff.org       1\n",
       "news.sedo.com                 1\n",
       "trip.com                      1\n",
       "mail7.creditkarma.com         1\n",
       "mail19.creditkarma.com        1\n",
       "mail17.creditkarma.com        1\n",
       "revolut.com                   1\n",
       "above.com                     1\n",
       "mail.instagram.com            1\n",
       "emaildl.att-mail.com          1\n",
       "account.pinterest.com         1\n",
       "affirm.com                    1\n",
       "auction.com                   1\n",
       "better.com                    1\n",
       "budgetair.com                 1\n",
       "clickandboat.com              1\n",
       "coinbase.com                  1\n",
       "exploretock.com               1\n",
       "account.evernote.com          1\n",
       "gmail.com                     1\n",
       "hightail.com                  1\n",
       "indiamart.com                 1\n",
       "info6.citi.com                1\n",
       "instacart.com                 1\n",
       "joinautopilot.com             1\n",
       "login.gov                     1\n",
       "wifi.pro                      1\n",
       "Name: count, dtype: int64"
      ]
     },
     "execution_count": 12,
     "metadata": {},
     "output_type": "execute_result"
    }
   ],
   "execution_count": 12
  },
  {
   "metadata": {},
   "cell_type": "code",
   "source": "",
   "id": "299cb3f2a1c2423d",
   "outputs": [],
   "execution_count": null
  }
 ],
 "metadata": {
  "kernelspec": {
   "display_name": "Python 3 (ipykernel)",
   "language": "python",
   "name": "python3"
  },
  "language_info": {
   "codemirror_mode": {
    "name": "ipython",
    "version": 2
   },
   "file_extension": ".py",
   "mimetype": "text/x-python",
   "name": "python",
   "nbconvert_exporter": "python",
   "pygments_lexer": "ipython2",
   "version": "2.7.6"
  }
 },
 "nbformat": 4,
 "nbformat_minor": 5
}
