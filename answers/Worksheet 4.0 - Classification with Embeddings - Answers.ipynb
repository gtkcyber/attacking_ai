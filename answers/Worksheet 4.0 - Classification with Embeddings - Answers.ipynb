{
 "cells": [
  {
   "cell_type": "markdown",
   "id": "9cdd1aa43a9fb549",
   "metadata": {},
   "source": [
    "# Worksheet 4.1 SQL Injection Detection with Embeddings\n",
    "In this lab we will use embeddings to identify malicious SQL queries.  SQL injection is a technique where attackers inject malicious code into SQL queries for execution.  You can read more here: https://en.wikipedia.org/wiki/SQL_injection.\n",
    "You have already learned how to use lexical features to classify artifacts, but in this example, we will use a Random Forest Classifier, but instead of extracting features, we will use embeddings as a feature set.  You will then train a Random Forest Classifer to identify malicious queries.\n",
    "\n",
    "We will perform this experiment on two datasets, one was generated with ChatGPT and the other is from a Kaggle competition: (https://www.kaggle.com/datasets/sajid576/sql-injection-dataset)  The two files are:\n",
    "* `enriched_sql_injection_dataset_1000.csv`\n",
    "* `Modified_SQL_Dataset.csv`"
   ]
  },
  {
   "cell_type": "code",
   "id": "initial_id",
   "metadata": {
    "collapsed": true,
    "jupyter": {
     "outputs_hidden": true
    },
    "ExecuteTime": {
     "end_time": "2025-09-12T03:33:59.944836Z",
     "start_time": "2025-09-12T03:33:55.735762Z"
    }
   },
   "source": [
    "import pandas as pd\n",
    "import numpy as np\n",
    "from sentence_transformers import SentenceTransformer\n",
    "from sklearn.model_selection import train_test_split\n",
    "from sklearn.ensemble import RandomForestClassifier\n",
    "from yellowbrick.classifier import ClassificationReport\n",
    "from yellowbrick.classifier import ConfusionMatrix\n",
    "DATA_PATH = '../data'"
   ],
   "outputs": [],
   "execution_count": 1
  },
  {
   "cell_type": "markdown",
   "id": "daf4693dabf7c3aa",
   "metadata": {},
   "source": [
    "## Step 1:  Read in the Data\n",
    "The first step is to read in the sample dataset into a Pandas dataframe.  The first dataset we will use is the sample data contained in the file `enriched_sql_injection_dataset_1000.csv`."
   ]
  },
  {
   "cell_type": "code",
   "id": "e43cdf7ff4a4f7e",
   "metadata": {
    "ExecuteTime": {
     "end_time": "2025-09-12T03:34:15.243026Z",
     "start_time": "2025-09-12T03:34:15.226353Z"
    }
   },
   "source": [
    "# Read in the data\n",
    "raw_data = pd.read_csv(f\"{DATA_PATH}/enriched_sql_injection_dataset_1000.csv\")\n",
    "raw_data.sample(5)"
   ],
   "outputs": [
    {
     "data": {
      "text/plain": [
       "                                                 query      label  length  \\\n",
       "988  SELECT * FROM employees WHERE department = 'su...       safe      53   \n",
       "98   SELECT * FROM accounts WHERE account_name = ''...  injection     123   \n",
       "24   INSERT INTO logs (event, user_id) VALUES ('log...       safe      55   \n",
       "508  SELECT * FROM users WHERE username = 'admin'; ...  injection      66   \n",
       "578  SELECT * FROM sessions WHERE session_id = 'adm...  injection      79   \n",
       "\n",
       "     num_keywords  has_comment  num_quotes  num_semicolons  has_union  \\\n",
       "988             3        False           2               1      False   \n",
       "98              7         True           4               1      False   \n",
       "24              1        False           2               1      False   \n",
       "508             4         True           2               2      False   \n",
       "578             4         True           4               2      False   \n",
       "\n",
       "     has_exec  has_sleep     injection_type  \n",
       "988     False      False               none  \n",
       "98      False      False              other  \n",
       "24      False      False               none  \n",
       "508     False      False  data manipulation  \n",
       "578     False       True         time-based  "
      ],
      "text/html": [
       "<div>\n",
       "<style scoped>\n",
       "    .dataframe tbody tr th:only-of-type {\n",
       "        vertical-align: middle;\n",
       "    }\n",
       "\n",
       "    .dataframe tbody tr th {\n",
       "        vertical-align: top;\n",
       "    }\n",
       "\n",
       "    .dataframe thead th {\n",
       "        text-align: right;\n",
       "    }\n",
       "</style>\n",
       "<table border=\"1\" class=\"dataframe\">\n",
       "  <thead>\n",
       "    <tr style=\"text-align: right;\">\n",
       "      <th></th>\n",
       "      <th>query</th>\n",
       "      <th>label</th>\n",
       "      <th>length</th>\n",
       "      <th>num_keywords</th>\n",
       "      <th>has_comment</th>\n",
       "      <th>num_quotes</th>\n",
       "      <th>num_semicolons</th>\n",
       "      <th>has_union</th>\n",
       "      <th>has_exec</th>\n",
       "      <th>has_sleep</th>\n",
       "      <th>injection_type</th>\n",
       "    </tr>\n",
       "  </thead>\n",
       "  <tbody>\n",
       "    <tr>\n",
       "      <th>988</th>\n",
       "      <td>SELECT * FROM employees WHERE department = 'su...</td>\n",
       "      <td>safe</td>\n",
       "      <td>53</td>\n",
       "      <td>3</td>\n",
       "      <td>False</td>\n",
       "      <td>2</td>\n",
       "      <td>1</td>\n",
       "      <td>False</td>\n",
       "      <td>False</td>\n",
       "      <td>False</td>\n",
       "      <td>none</td>\n",
       "    </tr>\n",
       "    <tr>\n",
       "      <th>98</th>\n",
       "      <td>SELECT * FROM accounts WHERE account_name = ''...</td>\n",
       "      <td>injection</td>\n",
       "      <td>123</td>\n",
       "      <td>7</td>\n",
       "      <td>True</td>\n",
       "      <td>4</td>\n",
       "      <td>1</td>\n",
       "      <td>False</td>\n",
       "      <td>False</td>\n",
       "      <td>False</td>\n",
       "      <td>other</td>\n",
       "    </tr>\n",
       "    <tr>\n",
       "      <th>24</th>\n",
       "      <td>INSERT INTO logs (event, user_id) VALUES ('log...</td>\n",
       "      <td>safe</td>\n",
       "      <td>55</td>\n",
       "      <td>1</td>\n",
       "      <td>False</td>\n",
       "      <td>2</td>\n",
       "      <td>1</td>\n",
       "      <td>False</td>\n",
       "      <td>False</td>\n",
       "      <td>False</td>\n",
       "      <td>none</td>\n",
       "    </tr>\n",
       "    <tr>\n",
       "      <th>508</th>\n",
       "      <td>SELECT * FROM users WHERE username = 'admin'; ...</td>\n",
       "      <td>injection</td>\n",
       "      <td>66</td>\n",
       "      <td>4</td>\n",
       "      <td>True</td>\n",
       "      <td>2</td>\n",
       "      <td>2</td>\n",
       "      <td>False</td>\n",
       "      <td>False</td>\n",
       "      <td>False</td>\n",
       "      <td>data manipulation</td>\n",
       "    </tr>\n",
       "    <tr>\n",
       "      <th>578</th>\n",
       "      <td>SELECT * FROM sessions WHERE session_id = 'adm...</td>\n",
       "      <td>injection</td>\n",
       "      <td>79</td>\n",
       "      <td>4</td>\n",
       "      <td>True</td>\n",
       "      <td>4</td>\n",
       "      <td>2</td>\n",
       "      <td>False</td>\n",
       "      <td>False</td>\n",
       "      <td>True</td>\n",
       "      <td>time-based</td>\n",
       "    </tr>\n",
       "  </tbody>\n",
       "</table>\n",
       "</div>"
      ]
     },
     "execution_count": 2,
     "metadata": {},
     "output_type": "execute_result"
    }
   ],
   "execution_count": 2
  },
  {
   "cell_type": "markdown",
   "id": "313758f85b52998e",
   "metadata": {},
   "source": [
    "## Step 2: Load the Model and Generate Embeddings\n",
    "Now that we have the data in a Pandas Dataframe, the next step is to generate the embeddings. There are many models we could use for that, but for this exercise, we will use the model `paraphrase-MiniLM-L6-v2` (https://huggingface.co/sentence-transformers/paraphrase-MiniLM-L6-v2) which is a sentence transformer model that maps sentences and paragraphs to a 384 dimensional dense vector space.\n",
    "\n",
    "This model provides a good balance between speed and effectiveness.\n",
    "\n",
    "You can use the `SentenceTransformer` module to create the model. Next, use the encode function to create the embeddings."
   ]
  },
  {
   "cell_type": "code",
   "id": "c9f197c94dcdee7e",
   "metadata": {
    "ExecuteTime": {
     "end_time": "2025-09-12T03:34:19.541037Z",
     "start_time": "2025-09-12T03:34:18.295088Z"
    }
   },
   "source": [
    "# Load embedding model\n",
    "model = SentenceTransformer('paraphrase-MiniLM-L6-v2')"
   ],
   "outputs": [],
   "execution_count": 3
  },
  {
   "cell_type": "code",
   "id": "31fbf8a95f2575aa",
   "metadata": {
    "ExecuteTime": {
     "end_time": "2025-09-12T03:34:27.272701Z",
     "start_time": "2025-09-12T03:34:22.395224Z"
    }
   },
   "source": [
    "# Generate embeddings\n",
    "raw_data['embedding'] = raw_data['query'].apply(lambda x: model.encode(x).tolist())\n",
    "\n",
    "# Take a look at a sample of the data to make sure\n",
    "raw_data.sample(5)"
   ],
   "outputs": [
    {
     "data": {
      "text/plain": [
       "                                                 query      label  length  \\\n",
       "997  DELETE FROM temp_data WHERE created_at < NOW()...       safe      67   \n",
       "556  SELECT * FROM employees WHERE department = 'ma...       safe      55   \n",
       "648  SELECT * FROM sessions WHERE session_id = 'adm...  injection      79   \n",
       "644  DELETE FROM temp_data WHERE created_at < NOW()...       safe      67   \n",
       "678  SELECT COUNT(*) FROM orders WHERE product_id =...       safe      50   \n",
       "\n",
       "     num_keywords  has_comment  num_quotes  num_semicolons  has_union  \\\n",
       "997             3        False           2               1      False   \n",
       "556             3        False           2               1      False   \n",
       "648             4         True           4               2      False   \n",
       "644             3        False           2               1      False   \n",
       "678             3        False           0               1      False   \n",
       "\n",
       "     has_exec  has_sleep injection_type  \\\n",
       "997     False      False           none   \n",
       "556     False      False           none   \n",
       "648     False       True     time-based   \n",
       "644     False      False           none   \n",
       "678     False      False           none   \n",
       "\n",
       "                                             embedding  \n",
       "997  [-0.1919776201248169, -0.08734158426523209, -0...  \n",
       "556  [0.08352582901716232, -0.10470226407051086, -0...  \n",
       "648  [0.010189483873546124, -0.023661144077777863, ...  \n",
       "644  [-0.1919776201248169, -0.08734158426523209, -0...  \n",
       "678  [-0.011718139052391052, 0.3227803111076355, -0...  "
      ],
      "text/html": [
       "<div>\n",
       "<style scoped>\n",
       "    .dataframe tbody tr th:only-of-type {\n",
       "        vertical-align: middle;\n",
       "    }\n",
       "\n",
       "    .dataframe tbody tr th {\n",
       "        vertical-align: top;\n",
       "    }\n",
       "\n",
       "    .dataframe thead th {\n",
       "        text-align: right;\n",
       "    }\n",
       "</style>\n",
       "<table border=\"1\" class=\"dataframe\">\n",
       "  <thead>\n",
       "    <tr style=\"text-align: right;\">\n",
       "      <th></th>\n",
       "      <th>query</th>\n",
       "      <th>label</th>\n",
       "      <th>length</th>\n",
       "      <th>num_keywords</th>\n",
       "      <th>has_comment</th>\n",
       "      <th>num_quotes</th>\n",
       "      <th>num_semicolons</th>\n",
       "      <th>has_union</th>\n",
       "      <th>has_exec</th>\n",
       "      <th>has_sleep</th>\n",
       "      <th>injection_type</th>\n",
       "      <th>embedding</th>\n",
       "    </tr>\n",
       "  </thead>\n",
       "  <tbody>\n",
       "    <tr>\n",
       "      <th>997</th>\n",
       "      <td>DELETE FROM temp_data WHERE created_at &lt; NOW()...</td>\n",
       "      <td>safe</td>\n",
       "      <td>67</td>\n",
       "      <td>3</td>\n",
       "      <td>False</td>\n",
       "      <td>2</td>\n",
       "      <td>1</td>\n",
       "      <td>False</td>\n",
       "      <td>False</td>\n",
       "      <td>False</td>\n",
       "      <td>none</td>\n",
       "      <td>[-0.1919776201248169, -0.08734158426523209, -0...</td>\n",
       "    </tr>\n",
       "    <tr>\n",
       "      <th>556</th>\n",
       "      <td>SELECT * FROM employees WHERE department = 'ma...</td>\n",
       "      <td>safe</td>\n",
       "      <td>55</td>\n",
       "      <td>3</td>\n",
       "      <td>False</td>\n",
       "      <td>2</td>\n",
       "      <td>1</td>\n",
       "      <td>False</td>\n",
       "      <td>False</td>\n",
       "      <td>False</td>\n",
       "      <td>none</td>\n",
       "      <td>[0.08352582901716232, -0.10470226407051086, -0...</td>\n",
       "    </tr>\n",
       "    <tr>\n",
       "      <th>648</th>\n",
       "      <td>SELECT * FROM sessions WHERE session_id = 'adm...</td>\n",
       "      <td>injection</td>\n",
       "      <td>79</td>\n",
       "      <td>4</td>\n",
       "      <td>True</td>\n",
       "      <td>4</td>\n",
       "      <td>2</td>\n",
       "      <td>False</td>\n",
       "      <td>False</td>\n",
       "      <td>True</td>\n",
       "      <td>time-based</td>\n",
       "      <td>[0.010189483873546124, -0.023661144077777863, ...</td>\n",
       "    </tr>\n",
       "    <tr>\n",
       "      <th>644</th>\n",
       "      <td>DELETE FROM temp_data WHERE created_at &lt; NOW()...</td>\n",
       "      <td>safe</td>\n",
       "      <td>67</td>\n",
       "      <td>3</td>\n",
       "      <td>False</td>\n",
       "      <td>2</td>\n",
       "      <td>1</td>\n",
       "      <td>False</td>\n",
       "      <td>False</td>\n",
       "      <td>False</td>\n",
       "      <td>none</td>\n",
       "      <td>[-0.1919776201248169, -0.08734158426523209, -0...</td>\n",
       "    </tr>\n",
       "    <tr>\n",
       "      <th>678</th>\n",
       "      <td>SELECT COUNT(*) FROM orders WHERE product_id =...</td>\n",
       "      <td>safe</td>\n",
       "      <td>50</td>\n",
       "      <td>3</td>\n",
       "      <td>False</td>\n",
       "      <td>0</td>\n",
       "      <td>1</td>\n",
       "      <td>False</td>\n",
       "      <td>False</td>\n",
       "      <td>False</td>\n",
       "      <td>none</td>\n",
       "      <td>[-0.011718139052391052, 0.3227803111076355, -0...</td>\n",
       "    </tr>\n",
       "  </tbody>\n",
       "</table>\n",
       "</div>"
      ]
     },
     "execution_count": 4,
     "metadata": {},
     "output_type": "execute_result"
    }
   ],
   "execution_count": 4
  },
  {
   "cell_type": "code",
   "id": "f21ed0bef1d77e57",
   "metadata": {
    "ExecuteTime": {
     "end_time": "2025-09-12T03:34:31.352355Z",
     "start_time": "2025-09-12T03:34:31.347865Z"
    }
   },
   "source": [
    "# Convert text labels to 0 and 1.\n",
    "raw_data['final_label'] = raw_data['label'].map({\"injection\": 1, \"safe\": 0})\n",
    "raw_data[['label', 'final_label']].sample(5)"
   ],
   "outputs": [
    {
     "data": {
      "text/plain": [
       "         label  final_label\n",
       "687       safe            0\n",
       "532  injection            1\n",
       "831  injection            1\n",
       "651  injection            1\n",
       "688       safe            0"
      ],
      "text/html": [
       "<div>\n",
       "<style scoped>\n",
       "    .dataframe tbody tr th:only-of-type {\n",
       "        vertical-align: middle;\n",
       "    }\n",
       "\n",
       "    .dataframe tbody tr th {\n",
       "        vertical-align: top;\n",
       "    }\n",
       "\n",
       "    .dataframe thead th {\n",
       "        text-align: right;\n",
       "    }\n",
       "</style>\n",
       "<table border=\"1\" class=\"dataframe\">\n",
       "  <thead>\n",
       "    <tr style=\"text-align: right;\">\n",
       "      <th></th>\n",
       "      <th>label</th>\n",
       "      <th>final_label</th>\n",
       "    </tr>\n",
       "  </thead>\n",
       "  <tbody>\n",
       "    <tr>\n",
       "      <th>687</th>\n",
       "      <td>safe</td>\n",
       "      <td>0</td>\n",
       "    </tr>\n",
       "    <tr>\n",
       "      <th>532</th>\n",
       "      <td>injection</td>\n",
       "      <td>1</td>\n",
       "    </tr>\n",
       "    <tr>\n",
       "      <th>831</th>\n",
       "      <td>injection</td>\n",
       "      <td>1</td>\n",
       "    </tr>\n",
       "    <tr>\n",
       "      <th>651</th>\n",
       "      <td>injection</td>\n",
       "      <td>1</td>\n",
       "    </tr>\n",
       "    <tr>\n",
       "      <th>688</th>\n",
       "      <td>safe</td>\n",
       "      <td>0</td>\n",
       "    </tr>\n",
       "  </tbody>\n",
       "</table>\n",
       "</div>"
      ]
     },
     "execution_count": 5,
     "metadata": {},
     "output_type": "execute_result"
    }
   ],
   "execution_count": 5
  },
  {
   "cell_type": "markdown",
   "id": "edf4b2c9f0d1e282",
   "metadata": {},
   "source": [
    "Now that you generated the embeddings in a dataframe cell, you will need to extract them and convert them into a 2D list.  You can use the `tolist()` function to accomplish this.  You'll also need to extract the target vector.\n",
    "\n",
    "Once you've done that, split the data into training and testing sets. Use 25% of the data for testing.  Next train a `RandomForestClassifier` using the training data and make a list of `predictions` using the testing features."
   ]
  },
  {
   "cell_type": "code",
   "id": "118db883e2bf7ca8",
   "metadata": {
    "ExecuteTime": {
     "end_time": "2025-09-12T03:34:33.369013Z",
     "start_time": "2025-09-12T03:34:33.105023Z"
    }
   },
   "source": [
    "# Extract arrays from dataframe\n",
    "features = np.array(raw_data['embedding'].tolist())\n",
    "target = raw_data['final_label']\n",
    "\n",
    "# Split into train/test\n",
    "features_train, features_test, target_train, target_test = train_test_split(features, target, test_size=0.25)\n",
    "\n",
    "# Train a model\n",
    "clf = RandomForestClassifier()\n",
    "clf.fit(features_train, target_train)\n",
    "predictions = clf.predict(features_test)"
   ],
   "outputs": [],
   "execution_count": 6
  },
  {
   "cell_type": "markdown",
   "id": "2f047a35d8fce703",
   "metadata": {},
   "source": [
    "### Step 3:  Evaluate the Model's Performance\n",
    "Use Yellowbrick to create a confusion matrix and classification report to see how well the model performed."
   ]
  },
  {
   "cell_type": "code",
   "id": "5383c30d31ba9e9d",
   "metadata": {
    "ExecuteTime": {
     "end_time": "2025-09-12T03:34:34.982249Z",
     "start_time": "2025-09-12T03:34:34.888416Z"
    }
   },
   "source": [
    "visualizer = ClassificationReport(clf, classes=[\"injection\", \"safe\"], support=True)\n",
    "visualizer.fit(features_train, target_train)\n",
    "visualizer.score(features_test, target_test)\n",
    "visualizer.show()"
   ],
   "outputs": [
    {
     "data": {
      "text/plain": [
       "<Figure size 800x550 with 2 Axes>"
      ],
      "image/png": "[encoded data removed]"
     },
     "metadata": {},
     "output_type": "display_data"
    },
    {
     "data": {
      "text/plain": [
       "<Axes: title={'center': 'RandomForestClassifier Classification Report'}>"
      ]
     },
     "execution_count": 7,
     "metadata": {},
     "output_type": "execute_result"
    }
   ],
   "execution_count": 7
  },
  {
   "cell_type": "code",
   "id": "d63339f0493f6072",
   "metadata": {
    "ExecuteTime": {
     "end_time": "2025-09-12T03:34:38.788609Z",
     "start_time": "2025-09-12T03:34:38.746148Z"
    }
   },
   "source": [
    "cm = ConfusionMatrix(clf, classes=[0,1])\n",
    "cm.fit(features_train, target_train)\n",
    "cm.score(features_test, target_test)\n",
    "cm.show()\n"
   ],
   "outputs": [
    {
     "data": {
      "text/plain": [
       "<Figure size 800x550 with 1 Axes>"
      ],
      "image/png": "[encoded data removed]"
     },
     "metadata": {},
     "output_type": "display_data"
    },
    {
     "data": {
      "text/plain": [
       "<Axes: title={'center': 'RandomForestClassifier Confusion Matrix'}, xlabel='Predicted Class', ylabel='True Class'>"
      ]
     },
     "execution_count": 8,
     "metadata": {},
     "output_type": "execute_result"
    }
   ],
   "execution_count": 8
  },
  {
   "cell_type": "markdown",
   "id": "d6334b9c33c11074",
   "metadata": {},
   "source": [
    "As you can see, this model performs very well with the defaults, however this was with a synthetic dataset.  One approach you might consider is to use a SQL tokenizer to tokenize the SQL queries before generating embeddings.\n",
    "\n",
    "```python\n",
    "sql_tokenizer = Tokenizer()\n",
    "sql_tokens = sql_tokenizer.tokenize(sql=\"SELECT * FROM users WHERE username = 'carol' AND password = '5845';\")\n",
    "token_types = [token.token_type.name for token in sql_tokens]\n",
    "```\n",
    "This converts the SQL query into the token string below:\n",
    "\n",
    "```\n",
    "['SELECT',\n",
    " 'STAR',\n",
    " 'FROM',\n",
    " 'VAR',\n",
    " 'WHERE',\n",
    " 'VAR',\n",
    " 'EQ',\n",
    " 'STRING',\n",
    " 'AND',\n",
    " 'VAR',\n",
    " 'EQ',\n",
    " 'STRING',\n",
    " 'SEMICOLON']\n",
    "```\n",
    "You could then generate embeddings from the token sequence.\n"
   ]
  },
  {
   "cell_type": "markdown",
   "id": "9487b88c144ce786",
   "metadata": {},
   "source": [
    "## Step 4:  Repeat with Real Data\n",
    "Next, we are going to train another model using a larger, non-generated dataset.  You can find the data in the file `Modified_SQL_Dataset.csv`.   How does this model perform?"
   ]
  },
  {
   "cell_type": "code",
   "id": "83964c3ef30dcd83",
   "metadata": {
    "ExecuteTime": {
     "end_time": "2025-09-12T03:37:17.709969Z",
     "start_time": "2025-09-12T03:35:06.242637Z"
    }
   },
   "source": [
    "raw_data2 = pd.read_csv(f\"{DATA_PATH}/Modified_SQL_Dataset.csv\")\n",
    "raw_data2['embedding'] = raw_data2['Query'].apply(lambda x: model.encode(x).tolist())\n",
    "\n",
    "features2 = np.array(raw_data2['embedding'].tolist())\n",
    "target2 = raw_data2['Label']\n",
    "\n",
    "# Split into train/test\n",
    "features2_train, features2_test, target2_train, target2_test = train_test_split(features2, target2, test_size=0.25)"
   ],
   "outputs": [],
   "execution_count": 10
  },
  {
   "cell_type": "code",
   "id": "dc0bc4c3dba1329f",
   "metadata": {
    "ExecuteTime": {
     "end_time": "2025-09-12T03:39:31.623122Z",
     "start_time": "2025-09-12T03:38:55.950970Z"
    }
   },
   "source": [
    "clf2 = RandomForestClassifier()\n",
    "clf2.fit(features2_train, target2_train)\n",
    "predictions2 = clf2.predict(features2_test)"
   ],
   "outputs": [],
   "execution_count": 11
  },
  {
   "cell_type": "code",
   "id": "dbb6b8b9a847f01b",
   "metadata": {
    "ExecuteTime": {
     "end_time": "2025-09-12T03:39:38.584127Z",
     "start_time": "2025-09-12T03:39:38.461013Z"
    }
   },
   "source": [
    "cm = ConfusionMatrix(clf2, classes=[0,1])\n",
    "cm.fit(features2_train, target2_train)\n",
    "cm.score(features2_test, target2_test)\n",
    "cm.show()"
   ],
   "outputs": [
    {
     "data": {
      "text/plain": [
       "<Figure size 800x550 with 1 Axes>"
      ],
      "image/png": "[encoded data removed]"
     },
     "metadata": {},
     "output_type": "display_data"
    },
    {
     "data": {
      "text/plain": [
       "<Axes: title={'center': 'RandomForestClassifier Confusion Matrix'}, xlabel='Predicted Class', ylabel='True Class'>"
      ]
     },
     "execution_count": 12,
     "metadata": {},
     "output_type": "execute_result"
    }
   ],
   "execution_count": 12
  },
  {
   "cell_type": "code",
   "id": "8f4712cda2070b59",
   "metadata": {
    "ExecuteTime": {
     "end_time": "2025-09-12T03:39:39.647638Z",
     "start_time": "2025-09-12T03:39:39.498649Z"
    }
   },
   "source": [
    "visualizer = ClassificationReport(clf2, classes=[\"injection\", \"safe\"], support=True)\n",
    "visualizer.fit(features2_train, target2_train)\n",
    "visualizer.score(features2_test, target2_test)\n",
    "visualizer.show()"
   ],
   "outputs": [
    {
     "data": {
      "text/plain": [
       "<Figure size 800x550 with 2 Axes>"
      ],
      "image/png": "[encoded data removed]"
     },
     "metadata": {},
     "output_type": "display_data"
    },
    {
     "data": {
      "text/plain": [
       "<Axes: title={'center': 'RandomForestClassifier Classification Report'}>"
      ]
     },
     "execution_count": 13,
     "metadata": {},
     "output_type": "execute_result"
    }
   ],
   "execution_count": 13
  },
  {
   "cell_type": "markdown",
   "id": "2eb6142aed19bfaa",
   "metadata": {},
   "source": [
    "## Try It Yourself\n",
    "The code below is a wrapper function which allows a user to pass a SQL query to the model to see whether the model labels it as malicious or not.  Try it out and see how it does."
   ]
  },
  {
   "cell_type": "code",
   "id": "fae4bfa667aa7ff2",
   "metadata": {
    "ExecuteTime": {
     "end_time": "2025-09-12T03:39:47.566641Z",
     "start_time": "2025-09-12T03:39:47.564512Z"
    }
   },
   "source": [
    "def is_possible_malicious_query(query: str, classifier) -> bool:\n",
    "    df = pd.DataFrame(columns=['Query'])\n",
    "    df['Query'] = [query]\n",
    "    df['embedding'] = df['Query'].apply(lambda x: model.encode(query).tolist())\n",
    "    embedding = np.array(df['embedding'].tolist())\n",
    "    results = classifier.predict(embedding)\n",
    "    return results[0]\n"
   ],
   "outputs": [],
   "execution_count": 14
  },
  {
   "cell_type": "code",
   "id": "a150edfcb3d3385e",
   "metadata": {
    "ExecuteTime": {
     "end_time": "2025-09-12T03:39:48.461290Z",
     "start_time": "2025-09-12T03:39:48.407254Z"
    }
   },
   "source": [
    "print(is_possible_malicious_query(\"SELECT * FROM users WHERE username = 'carol' AND password = '5845' OR 1=1;\", clf2))\n",
    "print(is_possible_malicious_query(\"SELECT * FROM users WHERE username = 'carol' AND password = '5845'\", clf2))"
   ],
   "outputs": [
    {
     "name": "stdout",
     "output_type": "stream",
     "text": [
      "1\n",
      "0\n"
     ]
    }
   ],
   "execution_count": 15
  },
  {
   "cell_type": "markdown",
   "id": "da0209ed9414ccb9",
   "metadata": {},
   "source": [
    "Next step... if you notice, the we created a feature matrix with 384 features, most of which are likely not predictive."
   ]
  }
 ],
 "metadata": {
  "kernelspec": {
   "display_name": "Python 3 (ipykernel)",
   "language": "python",
   "name": "python3"
  },
  "language_info": {
   "codemirror_mode": {
    "name": "ipython",
    "version": 2
   },
   "file_extension": ".py",
   "mimetype": "text/x-python",
   "name": "python",
   "nbconvert_exporter": "python",
   "pygments_lexer": "ipython2",
   "version": "2.7.6"
  }
 },
 "nbformat": 4,
 "nbformat_minor": 5
}
