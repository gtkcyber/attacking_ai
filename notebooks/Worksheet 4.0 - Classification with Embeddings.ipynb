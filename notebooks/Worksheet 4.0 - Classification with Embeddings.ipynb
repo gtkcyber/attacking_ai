{
 "cells": [
  {
   "cell_type": "markdown",
   "id": "9cdd1aa43a9fb549",
   "metadata": {},
   "source": [
    "# Worksheet 4.0 SQL Injection Detection with Embeddings\n",
    "In this lab we will use embeddings to identify malicious SQL queries.  SQL injection is a technique where attackers inject malicious code into SQL queries for execution.  You can read more here: https://en.wikipedia.org/wiki/SQL_injection.\n",
    "You have already learned how to use lexical features to classify artifacts, but in this example, we will use a Random Forest Classifier, but instead of extracting features, we will use embeddings as a feature set.  You will then train a Random Forest Classifer to identify malicious queries.\n",
    "\n",
    "We will perform this experiment on two datasets, one was generated with ChatGPT and the other is from a Kaggle competition: (https://www.kaggle.com/datasets/sajid576/sql-injection-dataset)  The two files are:\n",
    "* `enriched_sql_injection_dataset_1000.csv`\n",
    "* `Modified_SQL_Dataset.csv`"
   ]
  },
  {
   "cell_type": "code",
   "execution_count": 3,
   "id": "initial_id",
   "metadata": {
    "ExecuteTime": {
     "end_time": "2025-07-16T22:38:53.814441Z",
     "start_time": "2025-07-16T22:38:47.420421Z"
    }
   },
   "outputs": [],
   "source": [
    "import pandas as pd\n",
    "import numpy as np\n",
    "from sentence_transformers import SentenceTransformer\n",
    "from sklearn.model_selection import train_test_split\n",
    "from sklearn.ensemble import RandomForestClassifier\n",
    "from yellowbrick.classifier import ClassificationReport\n",
    "from yellowbrick.classifier import ConfusionMatrix\n",
    "DATA_PATH = '../data'"
   ]
  },
  {
   "cell_type": "markdown",
   "id": "daf4693dabf7c3aa",
   "metadata": {},
   "source": [
    "## Step 1:  Read in the Data\n",
    "The first step is to read in the sample dataset into a Pandas dataframe.  The first dataset we will use is the sample data contained in the file `enriched_sql_injection_dataset_1000.csv`."
   ]
  },
  {
   "cell_type": "code",
   "execution_count": 2,
   "id": "e43cdf7ff4a4f7e",
   "metadata": {
    "ExecuteTime": {
     "end_time": "2025-07-16T22:38:55.768426Z",
     "start_time": "2025-07-16T22:38:55.724948Z"
    }
   },
   "outputs": [
    {
     "data": {
      "text/html": [
       "<div>\n",
       "<style scoped>\n",
       "    .dataframe tbody tr th:only-of-type {\n",
       "        vertical-align: middle;\n",
       "    }\n",
       "\n",
       "    .dataframe tbody tr th {\n",
       "        vertical-align: top;\n",
       "    }\n",
       "\n",
       "    .dataframe thead th {\n",
       "        text-align: right;\n",
       "    }\n",
       "</style>\n",
       "<table border=\"1\" class=\"dataframe\">\n",
       "  <thead>\n",
       "    <tr style=\"text-align: right;\">\n",
       "      <th></th>\n",
       "      <th>query</th>\n",
       "      <th>label</th>\n",
       "      <th>length</th>\n",
       "      <th>num_keywords</th>\n",
       "      <th>has_comment</th>\n",
       "      <th>num_quotes</th>\n",
       "      <th>num_semicolons</th>\n",
       "      <th>has_union</th>\n",
       "      <th>has_exec</th>\n",
       "      <th>has_sleep</th>\n",
       "      <th>injection_type</th>\n",
       "    </tr>\n",
       "  </thead>\n",
       "  <tbody>\n",
       "    <tr>\n",
       "      <th>894</th>\n",
       "      <td>SELECT * FROM accounts WHERE account_name = ''...</td>\n",
       "      <td>injection</td>\n",
       "      <td>123</td>\n",
       "      <td>7</td>\n",
       "      <td>True</td>\n",
       "      <td>4</td>\n",
       "      <td>1</td>\n",
       "      <td>False</td>\n",
       "      <td>False</td>\n",
       "      <td>False</td>\n",
       "      <td>other</td>\n",
       "    </tr>\n",
       "    <tr>\n",
       "      <th>767</th>\n",
       "      <td>SELECT * FROM customers WHERE email = 'guest' ...</td>\n",
       "      <td>injection</td>\n",
       "      <td>112</td>\n",
       "      <td>6</td>\n",
       "      <td>True</td>\n",
       "      <td>7</td>\n",
       "      <td>3</td>\n",
       "      <td>False</td>\n",
       "      <td>True</td>\n",
       "      <td>False</td>\n",
       "      <td>data manipulation</td>\n",
       "    </tr>\n",
       "    <tr>\n",
       "      <th>142</th>\n",
       "      <td>UPDATE users SET last_login = NOW() WHERE id =...</td>\n",
       "      <td>safe</td>\n",
       "      <td>50</td>\n",
       "      <td>2</td>\n",
       "      <td>False</td>\n",
       "      <td>0</td>\n",
       "      <td>1</td>\n",
       "      <td>False</td>\n",
       "      <td>False</td>\n",
       "      <td>False</td>\n",
       "      <td>none</td>\n",
       "    </tr>\n",
       "    <tr>\n",
       "      <th>498</th>\n",
       "      <td>SELECT COUNT(*) FROM orders WHERE product_id =...</td>\n",
       "      <td>safe</td>\n",
       "      <td>50</td>\n",
       "      <td>3</td>\n",
       "      <td>False</td>\n",
       "      <td>0</td>\n",
       "      <td>1</td>\n",
       "      <td>False</td>\n",
       "      <td>False</td>\n",
       "      <td>False</td>\n",
       "      <td>none</td>\n",
       "    </tr>\n",
       "    <tr>\n",
       "      <th>220</th>\n",
       "      <td>SELECT * FROM orders WHERE user_id = 34 AND st...</td>\n",
       "      <td>injection</td>\n",
       "      <td>74</td>\n",
       "      <td>5</td>\n",
       "      <td>False</td>\n",
       "      <td>6</td>\n",
       "      <td>1</td>\n",
       "      <td>False</td>\n",
       "      <td>False</td>\n",
       "      <td>False</td>\n",
       "      <td>other</td>\n",
       "    </tr>\n",
       "  </tbody>\n",
       "</table>\n",
       "</div>"
      ],
      "text/plain": [
       "                                                 query      label  length  \\\n",
       "894  SELECT * FROM accounts WHERE account_name = ''...  injection     123   \n",
       "767  SELECT * FROM customers WHERE email = 'guest' ...  injection     112   \n",
       "142  UPDATE users SET last_login = NOW() WHERE id =...       safe      50   \n",
       "498  SELECT COUNT(*) FROM orders WHERE product_id =...       safe      50   \n",
       "220  SELECT * FROM orders WHERE user_id = 34 AND st...  injection      74   \n",
       "\n",
       "     num_keywords  has_comment  num_quotes  num_semicolons  has_union  \\\n",
       "894             7         True           4               1      False   \n",
       "767             6         True           7               3      False   \n",
       "142             2        False           0               1      False   \n",
       "498             3        False           0               1      False   \n",
       "220             5        False           6               1      False   \n",
       "\n",
       "     has_exec  has_sleep     injection_type  \n",
       "894     False      False              other  \n",
       "767      True      False  data manipulation  \n",
       "142     False      False               none  \n",
       "498     False      False               none  \n",
       "220     False      False              other  "
      ]
     },
     "execution_count": 2,
     "metadata": {},
     "output_type": "execute_result"
    }
   ],
   "source": [
    "# Read in the data\n",
    "raw_data = pd.read_csv(f\"{DATA_PATH}/enriched_sql_injection_dataset_1000.csv\")\n",
    "raw_data.sample(5)"
   ]
  },
  {
   "cell_type": "markdown",
   "id": "313758f85b52998e",
   "metadata": {},
   "source": [
    "## Step 2: Load the Model and Generate Embeddings\n",
    "Now that we have the data in a Pandas Dataframe, the next step is to generate the embeddings. There are many models we could use for that, but for this exercise, we will use the model `paraphrase-MiniLM-L6-v2` (https://huggingface.co/sentence-transformers/paraphrase-MiniLM-L6-v2) which is a sentence transformer model that maps sentences and paragraphs to a 384 dimensional dense vector space.\n",
    "\n",
    "This model provides a good balance between speed and effectiveness.\n",
    "\n",
    "You can use the `SentenceTransformer` module to create the model. Next, use the encode function to create the embeddings."
   ]
  },
  {
   "cell_type": "code",
   "execution_count": 5,
   "id": "c9f197c94dcdee7e",
   "metadata": {
    "ExecuteTime": {
     "end_time": "2025-07-16T22:39:01.754505Z",
     "start_time": "2025-07-16T22:38:59.789481Z"
    }
   },
   "outputs": [],
   "source": [
    "# Load embedding model\n",
    "model = SentenceTransformer('paraphrase-MiniLM-L6-v2')"
   ]
  },
  {
   "cell_type": "code",
   "execution_count": 9,
   "id": "31fbf8a95f2575aa",
   "metadata": {
    "ExecuteTime": {
     "end_time": "2025-07-15T19:11:30.892012Z",
     "start_time": "2025-07-15T19:11:24.783287Z"
    }
   },
   "outputs": [
    {
     "data": {
      "text/html": [
       "<div>\n",
       "<style scoped>\n",
       "    .dataframe tbody tr th:only-of-type {\n",
       "        vertical-align: middle;\n",
       "    }\n",
       "\n",
       "    .dataframe tbody tr th {\n",
       "        vertical-align: top;\n",
       "    }\n",
       "\n",
       "    .dataframe thead th {\n",
       "        text-align: right;\n",
       "    }\n",
       "</style>\n",
       "<table border=\"1\" class=\"dataframe\">\n",
       "  <thead>\n",
       "    <tr style=\"text-align: right;\">\n",
       "      <th></th>\n",
       "      <th>query</th>\n",
       "      <th>label</th>\n",
       "      <th>length</th>\n",
       "      <th>num_keywords</th>\n",
       "      <th>has_comment</th>\n",
       "      <th>num_quotes</th>\n",
       "      <th>num_semicolons</th>\n",
       "      <th>has_union</th>\n",
       "      <th>has_exec</th>\n",
       "      <th>has_sleep</th>\n",
       "      <th>injection_type</th>\n",
       "      <th>embedding</th>\n",
       "    </tr>\n",
       "  </thead>\n",
       "  <tbody>\n",
       "    <tr>\n",
       "      <th>298</th>\n",
       "      <td>SELECT * FROM logs WHERE action = 'login' AND ...</td>\n",
       "      <td>injection</td>\n",
       "      <td>98</td>\n",
       "      <td>7</td>\n",
       "      <td>True</td>\n",
       "      <td>2</td>\n",
       "      <td>1</td>\n",
       "      <td>False</td>\n",
       "      <td>False</td>\n",
       "      <td>False</td>\n",
       "      <td>other</td>\n",
       "      <td>[0.011416319757699966, 0.265578031539917, 0.00...</td>\n",
       "    </tr>\n",
       "    <tr>\n",
       "      <th>399</th>\n",
       "      <td>SELECT * FROM users WHERE username = 'alice'; ...</td>\n",
       "      <td>injection</td>\n",
       "      <td>66</td>\n",
       "      <td>4</td>\n",
       "      <td>True</td>\n",
       "      <td>2</td>\n",
       "      <td>2</td>\n",
       "      <td>False</td>\n",
       "      <td>False</td>\n",
       "      <td>False</td>\n",
       "      <td>data manipulation</td>\n",
       "      <td>[0.0005220055463723838, -0.07204636186361313, ...</td>\n",
       "    </tr>\n",
       "    <tr>\n",
       "      <th>488</th>\n",
       "      <td>SELECT * FROM users WHERE username = 'bob' AND...</td>\n",
       "      <td>injection</td>\n",
       "      <td>76</td>\n",
       "      <td>5</td>\n",
       "      <td>False</td>\n",
       "      <td>8</td>\n",
       "      <td>1</td>\n",
       "      <td>False</td>\n",
       "      <td>False</td>\n",
       "      <td>False</td>\n",
       "      <td>other</td>\n",
       "      <td>[-0.010827220976352692, 0.1826491802930832, -0...</td>\n",
       "    </tr>\n",
       "    <tr>\n",
       "      <th>953</th>\n",
       "      <td>UPDATE inventory SET stock = stock - 1 WHERE p...</td>\n",
       "      <td>safe</td>\n",
       "      <td>61</td>\n",
       "      <td>2</td>\n",
       "      <td>False</td>\n",
       "      <td>0</td>\n",
       "      <td>1</td>\n",
       "      <td>False</td>\n",
       "      <td>False</td>\n",
       "      <td>False</td>\n",
       "      <td>none</td>\n",
       "      <td>[-0.3706667721271515, -0.04088062420487404, -0...</td>\n",
       "    </tr>\n",
       "    <tr>\n",
       "      <th>243</th>\n",
       "      <td>SELECT * FROM payments WHERE card_number = '12...</td>\n",
       "      <td>injection</td>\n",
       "      <td>118</td>\n",
       "      <td>6</td>\n",
       "      <td>True</td>\n",
       "      <td>2</td>\n",
       "      <td>1</td>\n",
       "      <td>False</td>\n",
       "      <td>False</td>\n",
       "      <td>False</td>\n",
       "      <td>other</td>\n",
       "      <td>[-0.004863203968852758, 0.07300980389118195, -...</td>\n",
       "    </tr>\n",
       "  </tbody>\n",
       "</table>\n",
       "</div>"
      ],
      "text/plain": [
       "                                                 query      label  length  \\\n",
       "298  SELECT * FROM logs WHERE action = 'login' AND ...  injection      98   \n",
       "399  SELECT * FROM users WHERE username = 'alice'; ...  injection      66   \n",
       "488  SELECT * FROM users WHERE username = 'bob' AND...  injection      76   \n",
       "953  UPDATE inventory SET stock = stock - 1 WHERE p...       safe      61   \n",
       "243  SELECT * FROM payments WHERE card_number = '12...  injection     118   \n",
       "\n",
       "     num_keywords  has_comment  num_quotes  num_semicolons  has_union  \\\n",
       "298             7         True           2               1      False   \n",
       "399             4         True           2               2      False   \n",
       "488             5        False           8               1      False   \n",
       "953             2        False           0               1      False   \n",
       "243             6         True           2               1      False   \n",
       "\n",
       "     has_exec  has_sleep     injection_type  \\\n",
       "298     False      False              other   \n",
       "399     False      False  data manipulation   \n",
       "488     False      False              other   \n",
       "953     False      False               none   \n",
       "243     False      False              other   \n",
       "\n",
       "                                             embedding  \n",
       "298  [0.011416319757699966, 0.265578031539917, 0.00...  \n",
       "399  [0.0005220055463723838, -0.07204636186361313, ...  \n",
       "488  [-0.010827220976352692, 0.1826491802930832, -0...  \n",
       "953  [-0.3706667721271515, -0.04088062420487404, -0...  \n",
       "243  [-0.004863203968852758, 0.07300980389118195, -...  "
      ]
     },
     "execution_count": 9,
     "metadata": {},
     "output_type": "execute_result"
    }
   ],
   "source": [
    "# Generate embeddings\n",
    "raw_data['embedding'] = raw_data['query'].apply(lambda x: model.encode(x).tolist())\n",
    "\n",
    "# Take a look at a sample of the data to make sure\n",
    "raw_data.sample(5)"
   ]
  },
  {
   "cell_type": "code",
   "execution_count": 10,
   "id": "f21ed0bef1d77e57",
   "metadata": {
    "ExecuteTime": {
     "end_time": "2025-07-15T19:11:30.924908Z",
     "start_time": "2025-07-15T19:11:30.920435Z"
    }
   },
   "outputs": [
    {
     "data": {
      "text/html": [
       "<div>\n",
       "<style scoped>\n",
       "    .dataframe tbody tr th:only-of-type {\n",
       "        vertical-align: middle;\n",
       "    }\n",
       "\n",
       "    .dataframe tbody tr th {\n",
       "        vertical-align: top;\n",
       "    }\n",
       "\n",
       "    .dataframe thead th {\n",
       "        text-align: right;\n",
       "    }\n",
       "</style>\n",
       "<table border=\"1\" class=\"dataframe\">\n",
       "  <thead>\n",
       "    <tr style=\"text-align: right;\">\n",
       "      <th></th>\n",
       "      <th>label</th>\n",
       "      <th>final_label</th>\n",
       "    </tr>\n",
       "  </thead>\n",
       "  <tbody>\n",
       "    <tr>\n",
       "      <th>318</th>\n",
       "      <td>safe</td>\n",
       "      <td>0</td>\n",
       "    </tr>\n",
       "    <tr>\n",
       "      <th>183</th>\n",
       "      <td>injection</td>\n",
       "      <td>1</td>\n",
       "    </tr>\n",
       "    <tr>\n",
       "      <th>20</th>\n",
       "      <td>injection</td>\n",
       "      <td>1</td>\n",
       "    </tr>\n",
       "    <tr>\n",
       "      <th>388</th>\n",
       "      <td>injection</td>\n",
       "      <td>1</td>\n",
       "    </tr>\n",
       "    <tr>\n",
       "      <th>270</th>\n",
       "      <td>safe</td>\n",
       "      <td>0</td>\n",
       "    </tr>\n",
       "  </tbody>\n",
       "</table>\n",
       "</div>"
      ],
      "text/plain": [
       "         label  final_label\n",
       "318       safe            0\n",
       "183  injection            1\n",
       "20   injection            1\n",
       "388  injection            1\n",
       "270       safe            0"
      ]
     },
     "execution_count": 10,
     "metadata": {},
     "output_type": "execute_result"
    }
   ],
   "source": [
    "# Convert text labels to 0 and 1.\n",
    "raw_data['final_label'] = raw_data['label'].map({\"injection\": 1, \"safe\": 0})\n",
    "raw_data[['label', 'final_label']].sample(5)"
   ]
  },
  {
   "cell_type": "markdown",
   "id": "edf4b2c9f0d1e282",
   "metadata": {},
   "source": [
    "Now that you generated the embeddings in a dataframe cell, you will need to extract them and convert them into a 2D list.  You can use the `tolist()` function to accomplish this.  You'll also need to extract the target vector.\n",
    "\n",
    "Once you've done that, split the data into training and testing sets. Use 25% of the data for testing.  Next train a `RandomForestClassifier` using the training data and make a list of `predictions` using the testing features."
   ]
  },
  {
   "cell_type": "code",
   "execution_count": 41,
   "id": "118db883e2bf7ca8",
   "metadata": {
    "ExecuteTime": {
     "end_time": "2025-07-15T19:53:09.716274Z",
     "start_time": "2025-07-15T19:53:09.423292Z"
    }
   },
   "outputs": [],
   "source": [
    "# Extract arrays from dataframe\n",
    "features = np.array(raw_data['embedding'].tolist())\n",
    "target = raw_data['final_label']\n",
    "\n",
    "# Split into train/test\n",
    "features_train, features_test, target_train, target_test = train_test_split(features, target, test_size=0.25)\n",
    "\n",
    "# Train a model\n",
    "clf = RandomForestClassifier()\n",
    "clf.fit(features_train, target_train)\n",
    "predictions = clf.predict(features_test)"
   ]
  },
  {
   "cell_type": "markdown",
   "id": "2f047a35d8fce703",
   "metadata": {},
   "source": [
    "### Step 3:  Evaluate the Model's Performance\n",
    "Use Yellowbrick to create a confusion matrix and classification report to see how well the model performed."
   ]
  },
  {
   "cell_type": "code",
   "execution_count": 12,
   "id": "5383c30d31ba9e9d",
   "metadata": {
    "ExecuteTime": {
     "end_time": "2025-07-15T19:11:33.931874Z",
     "start_time": "2025-07-15T19:11:33.829947Z"
    }
   },
   "outputs": [
    {
     "data": {
      "image/png": "[encoded data removed]",
      "text/plain": [
       "<Figure size 800x550 with 2 Axes>"
      ]
     },
     "metadata": {},
     "output_type": "display_data"
    },
    {
     "data": {
      "text/plain": [
       "<Axes: title={'center': 'RandomForestClassifier Classification Report'}>"
      ]
     },
     "execution_count": 12,
     "metadata": {},
     "output_type": "execute_result"
    }
   ],
   "source": [
    "visualizer = ClassificationReport(clf, classes=[\"injection\", \"safe\"], support=True)\n",
    "visualizer.fit(features_train, target_train)\n",
    "visualizer.score(features_test, target_test)\n",
    "visualizer.show()"
   ]
  },
  {
   "cell_type": "code",
   "execution_count": 14,
   "id": "d63339f0493f6072",
   "metadata": {
    "ExecuteTime": {
     "end_time": "2025-07-15T19:11:54.892317Z",
     "start_time": "2025-07-15T19:11:54.848319Z"
    }
   },
   "outputs": [
    {
     "data": {
      "image/png": "[encoded data removed]",
      "text/plain": [
       "<Figure size 800x550 with 1 Axes>"
      ]
     },
     "metadata": {},
     "output_type": "display_data"
    },
    {
     "data": {
      "text/plain": [
       "<Axes: title={'center': 'RandomForestClassifier Confusion Matrix'}, xlabel='Predicted Class', ylabel='True Class'>"
      ]
     },
     "execution_count": 14,
     "metadata": {},
     "output_type": "execute_result"
    }
   ],
   "source": [
    "cm = ConfusionMatrix(clf, classes=[0,1])\n",
    "cm.fit(features_train, target_train)\n",
    "cm.score(features_test, target_test)\n",
    "cm.show()\n"
   ]
  },
  {
   "cell_type": "markdown",
   "id": "d6334b9c33c11074",
   "metadata": {},
   "source": [
    "As you can see, this model performs very well with the defaults, however this was with a synthetic dataset.  One approach you might consider is to use a SQL tokenizer to tokenize the SQL queries before generating embeddings.\n",
    "\n",
    "```python\n",
    "sql_tokenizer = Tokenizer()\n",
    "sql_tokens = sql_tokenizer.tokenize(sql=\"SELECT * FROM users WHERE username = 'carol' AND password = '5845';\")\n",
    "token_types = [token.token_type.name for token in sql_tokens]\n",
    "```\n",
    "This converts the SQL query into the token string below:\n",
    "\n",
    "```\n",
    "['SELECT',\n",
    " 'STAR',\n",
    " 'FROM',\n",
    " 'VAR',\n",
    " 'WHERE',\n",
    " 'VAR',\n",
    " 'EQ',\n",
    " 'STRING',\n",
    " 'AND',\n",
    " 'VAR',\n",
    " 'EQ',\n",
    " 'STRING',\n",
    " 'SEMICOLON']\n",
    "```\n",
    "You could then generate embeddings from the token sequence.\n"
   ]
  },
  {
   "cell_type": "markdown",
   "id": "9487b88c144ce786",
   "metadata": {},
   "source": [
    "## Step 4:  Repeat with Real Data\n",
    "Next, we are going to train another model using a larger, non-generated dataset.  You can find the data in the file `Modified_SQL_Dataset.csv`.   How does this model perform?"
   ]
  },
  {
   "cell_type": "code",
   "execution_count": 35,
   "id": "83964c3ef30dcd83",
   "metadata": {
    "ExecuteTime": {
     "end_time": "2025-07-15T19:26:05.637225Z",
     "start_time": "2025-07-15T19:23:18.154596Z"
    }
   },
   "outputs": [],
   "source": [
    "raw_data2 = pd.read_csv(f\"{DATA_PATH}/Modified_SQL_Dataset.csv\")\n",
    "raw_data2['embedding'] = raw_data2['Query'].apply(lambda x: model.encode(x).tolist())\n",
    "\n",
    "features2 = np.array(raw_data2['embedding'].tolist())\n",
    "target2 = raw_data2['Label']\n",
    "\n",
    "# Split into train/test\n",
    "features2_train, features2_test, target2_train, target2_test = train_test_split(features2, target2, test_size=0.25)"
   ]
  },
  {
   "cell_type": "code",
   "execution_count": 37,
   "id": "dc0bc4c3dba1329f",
   "metadata": {
    "ExecuteTime": {
     "end_time": "2025-07-15T19:52:41.560495Z",
     "start_time": "2025-07-15T19:52:04.738672Z"
    }
   },
   "outputs": [],
   "source": [
    "clf2 = RandomForestClassifier()\n",
    "clf2.fit(features2_train, target2_train)\n",
    "predictions2 = clf2.predict(features2_test)"
   ]
  },
  {
   "cell_type": "code",
   "execution_count": 38,
   "id": "dbb6b8b9a847f01b",
   "metadata": {
    "ExecuteTime": {
     "end_time": "2025-07-15T19:52:45.156844Z",
     "start_time": "2025-07-15T19:52:44.983090Z"
    }
   },
   "outputs": [
    {
     "data": {
      "image/png": "[encoded data removed]",
      "text/plain": [
       "<Figure size 800x550 with 1 Axes>"
      ]
     },
     "metadata": {},
     "output_type": "display_data"
    },
    {
     "data": {
      "text/plain": [
       "<Axes: title={'center': 'RandomForestClassifier Confusion Matrix'}, xlabel='Predicted Class', ylabel='True Class'>"
      ]
     },
     "execution_count": 38,
     "metadata": {},
     "output_type": "execute_result"
    }
   ],
   "source": [
    "cm = ConfusionMatrix(clf2, classes=[0,1])\n",
    "cm.fit(features2_train, target2_train)\n",
    "cm.score(features2_test, target2_test)\n",
    "cm.show()"
   ]
  },
  {
   "cell_type": "code",
   "execution_count": 39,
   "id": "8f4712cda2070b59",
   "metadata": {
    "ExecuteTime": {
     "end_time": "2025-07-15T19:52:49.824443Z",
     "start_time": "2025-07-15T19:52:49.647191Z"
    }
   },
   "outputs": [
    {
     "data": {
      "image/png": "[encoded data removed]",
      "text/plain": [
       "<Figure size 800x550 with 2 Axes>"
      ]
     },
     "metadata": {},
     "output_type": "display_data"
    },
    {
     "data": {
      "text/plain": [
       "<Axes: title={'center': 'RandomForestClassifier Classification Report'}>"
      ]
     },
     "execution_count": 39,
     "metadata": {},
     "output_type": "execute_result"
    }
   ],
   "source": [
    "visualizer = ClassificationReport(clf2, classes=[\"injection\", \"safe\"], support=True)\n",
    "visualizer.fit(features2_train, target2_train)\n",
    "visualizer.score(features2_test, target2_test)\n",
    "visualizer.show()"
   ]
  },
  {
   "cell_type": "markdown",
   "id": "2eb6142aed19bfaa",
   "metadata": {},
   "source": [
    "## Try It Yourself\n",
    "The code below is a wrapper function which allows a user to pass a SQL query to the model to see whether the model labels it as malicious or not.  Try it out and see how it does."
   ]
  },
  {
   "cell_type": "code",
   "execution_count": 40,
   "id": "fae4bfa667aa7ff2",
   "metadata": {
    "ExecuteTime": {
     "end_time": "2025-07-15T19:53:05.040716Z",
     "start_time": "2025-07-15T19:53:05.037360Z"
    }
   },
   "outputs": [],
   "source": [
    "def is_possible_malicious_query(query: str, classifier) -> bool:\n",
    "    df = pd.DataFrame(columns=['Query'])\n",
    "    df['Query'] = [query]\n",
    "    df['embedding'] = df['Query'].apply(lambda x: model.encode(query).tolist())\n",
    "    embedding = np.array(df['embedding'].tolist())\n",
    "    results = classifier.predict(embedding)\n",
    "    return results[0]\n"
   ]
  },
  {
   "cell_type": "code",
   "execution_count": 43,
   "id": "a150edfcb3d3385e",
   "metadata": {
    "ExecuteTime": {
     "end_time": "2025-07-15T19:53:40.094827Z",
     "start_time": "2025-07-15T19:53:40.025080Z"
    }
   },
   "outputs": [
    {
     "name": "stdout",
     "output_type": "stream",
     "text": [
      "1\n",
      "0\n"
     ]
    }
   ],
   "source": [
    "print(is_possible_malicious_query(\"SELECT * FROM users WHERE username = 'carol' AND password = '5845' OR 1=1;\", clf2))\n",
    "print(is_possible_malicious_query(\"SELECT * FROM users WHERE username = 'carol' AND password = '5845'\", clf2))"
   ]
  },
  {
   "cell_type": "markdown",
   "id": "da0209ed9414ccb9",
   "metadata": {},
   "source": [
    "Next step... if you notice, the we created a feature matrix with 384 features, most of which are likely not predictive."
   ]
  }
 ],
 "metadata": {
  "kernelspec": {
   "display_name": "Python [conda env:base] *",
   "language": "python",
   "name": "conda-base-py"
  },
  "language_info": {
   "codemirror_mode": {
    "name": "ipython",
    "version": 3
   },
   "file_extension": ".py",
   "mimetype": "text/x-python",
   "name": "python",
   "nbconvert_exporter": "python",
   "pygments_lexer": "ipython3",
   "version": "3.10.14"
  }
 },
 "nbformat": 4,
 "nbformat_minor": 5
}
